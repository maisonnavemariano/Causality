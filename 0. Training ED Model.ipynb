{
 "cells": [
  {
   "cell_type": "code",
   "execution_count": 27,
   "metadata": {},
   "outputs": [
    {
     "name": "stdout",
     "output_type": "stream",
     "text": [
      "2020-06-05 18:32:42.714932 [WARNING] Bad or missing parameters. Defined to default:\n",
      "2020-06-05 18:32:42.715350 [ INFO  ] Parameters:\n",
      "\t\t training           = False\n",
      "\t\t epochs             = 1\n",
      "\t\t model_path         = /mnt/work/maiso/python3.workspace/Causality/models/best_model.h5\n",
      "\t\t hidden_units_count = 15\n"
     ]
    }
   ],
   "source": [
    "import sys\n",
    "import sys, getopt\n",
    "from datetime import datetime\n",
    "\n",
    "\n",
    "argv = sys.argv[1:]\n",
    "try:\n",
    "    opts, args = getopt.getopt(argv,\"\",[\"training=\",\n",
    "                                        \"epochs=\",\n",
    "                                        \"model_path=\",\n",
    "                                        \"hidden_units_count=\"\n",
    "                                       ])\n",
    "    \n",
    "    for opt, arg in opts:\n",
    "        if opt == \"--training\":\n",
    "            training = arg==\"True\"\n",
    "        if opt == \"--epochs\":\n",
    "            epochs = int(arg)\n",
    "        if opt == \"--model_path\":\n",
    "            model_path = arg\n",
    "        if opt == \"--hidden_units_count\":\n",
    "            hidden_units_count = int(arg)\n",
    "            \n",
    "            \n",
    "except getopt.GetoptError:\n",
    "    training = False\n",
    "    epochs = 1\n",
    "    model_path = '/mnt/work/maiso/python3.workspace/Causality/models/best_model.h5'\n",
    "    hidden_units_count = 15\n",
    "    print(f'{datetime.now()} [WARNING] Bad or missing parameters. Defined to default:')\n",
    "\n",
    "print(f'{datetime.now()} [ INFO  ] Parameters:' )\n",
    "print(f'\\t\\t training           = {training}')\n",
    "print(f'\\t\\t epochs             = {epochs}')\n",
    "print(f'\\t\\t model_path         = {model_path}')\n",
    "print(f'\\t\\t hidden_units_count = {hidden_units_count}')\n",
    "\n"
   ]
  },
  {
   "cell_type": "code",
   "execution_count": 22,
   "metadata": {},
   "outputs": [],
   "source": [
    "from modules.ed import get_data, load_model_from_disk, Generator, train_val_split, train_model, get_model, sensitivity, specificity, f1_score"
   ]
  },
  {
   "cell_type": "code",
   "execution_count": 23,
   "metadata": {},
   "outputs": [],
   "source": [
    "data_path='/mnt/work/maiso/python3.workspace/Causality/data/ed/'"
   ]
  },
  {
   "cell_type": "code",
   "execution_count": 24,
   "metadata": {},
   "outputs": [
    {
     "name": "stdout",
     "output_type": "stream",
     "text": [
      "2020-06-05 18:15:47.056448 [ INFO  ] Loading data from files (testing_sents.p and training_sents.p) on folder: /mnt/work/maiso/python3.workspace/Causality/data/ed/\n",
      "[  OK   ] Loading training indexes.\n"
     ]
    }
   ],
   "source": [
    "print(f'{datetime.now()} [ INFO  ] Loading data from files (testing_sents.p and training_sents.p) on folder: {data_path}')\n",
    "    \n",
    "x, y, ent2index = get_data(data_path)\n",
    "train_data, val_data = train_val_split((x,y))\n"
   ]
  },
  {
   "cell_type": "code",
   "execution_count": 25,
   "metadata": {},
   "outputs": [
    {
     "name": "stdout",
     "output_type": "stream",
     "text": [
      "2020-06-05 18:16:40.531564 [ INFO  ] Generating model\n"
     ]
    }
   ],
   "source": [
    "print(f'{datetime.now()} [ INFO  ] Generating model')\n",
    "model = get_model(len(ent2index), hidden_units_count=hidden_units_count)\n"
   ]
  },
  {
   "cell_type": "code",
   "execution_count": null,
   "metadata": {},
   "outputs": [],
   "source": [
    "if not training:\n",
    "    model.load_weights(model_path)\n",
    "\n",
    "model.compile(loss='binary_crossentropy', \n",
    "          optimizer='adam', \n",
    "          metrics=['accuracy',sensitivity,specificity, f1_score])\n",
    "\n",
    "if training:\n",
    "    train_model(model, train_data, val_data, model_path, epochs=epochs)\n"
   ]
  },
  {
   "cell_type": "code",
   "execution_count": null,
   "metadata": {},
   "outputs": [],
   "source": [
    "print(f'{datetime.now()} [ INFO  ] evaluating model on validation_data')\n",
    "x_val, y_val = val_data\n",
    "rta = model.evaluate(Generator(list(zip(x_val, y_val))), verbose=0)\n",
    "\n",
    "for metric,value in zip(model.metrics_names, rta):\n",
    "    print('{}: {:5.4f}'.format(metric, value))"
   ]
  }
 ],
 "metadata": {
  "kernelspec": {
   "display_name": "Python 3",
   "language": "python",
   "name": "python3"
  },
  "language_info": {
   "codemirror_mode": {
    "name": "ipython",
    "version": 3
   },
   "file_extension": ".py",
   "mimetype": "text/x-python",
   "name": "python",
   "nbconvert_exporter": "python",
   "pygments_lexer": "ipython3",
   "version": "3.6.9"
  }
 },
 "nbformat": 4,
 "nbformat_minor": 4
}
